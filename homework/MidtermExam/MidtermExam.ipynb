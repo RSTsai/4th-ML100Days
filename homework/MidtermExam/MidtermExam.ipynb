{
 "cells": [
  {
   "cell_type": "code",
   "execution_count": 77,
   "metadata": {},
   "outputs": [],
   "source": [
    "import os\n",
    "import pandas as pd\n",
    "import numpy as np\n",
    "import pandas as pdPy\n",
    "import matplotlib.pyplot as plt"
   ]
  },
  {
   "cell_type": "code",
   "execution_count": 11,
   "metadata": {},
   "outputs": [
    {
     "output_type": "stream",
     "name": "stdout",
     "text": "os.listdir:\n['desktop.ini', 'test_features.csv', 'sample_submission.csv', 'enron61702insiderpay.pdf', 'train_data.csv']\nPath of read in data:\n../MidtermExam/ml100/test_features.csv\n"
    }
   ],
   "source": [
    "#確認資料夾中資料\n",
    "dirPath = '../MidtermExam/ml100/'\n",
    "print('os.listdir:')\n",
    "print(os.listdir(dirPath))\n",
    "\n",
    "#指定讀取檔案\n",
    "filePath = os.path.join(dirPath, 'test_features.csv')\n",
    "print('Path of read in data:')\n",
    "print(f'{filePath}')"
   ]
  },
  {
   "cell_type": "code",
   "execution_count": 79,
   "metadata": {},
   "outputs": [
    {
     "output_type": "execute_result",
     "data": {
      "text/plain": "                 name      bonus  deferral_payments  deferred_income  \\\n0    BELDEN TIMOTHY N  5249999.0          2144013.0       -2334434.0   \n1  BOWEN JR RAYMOND M  1350000.0                NaN           -833.0   \n2      HANNON KEVIN P  1500000.0                NaN       -3117011.0   \n3    DELAINEY DAVID W  3000000.0                NaN              NaN   \n4    CAUSEY RICHARD A  1000000.0                NaN        -235000.0   \n\n   director_fees             email_address  exercised_stock_options  expenses  \\\n0            NaN      tim.belden@enron.com                 953136.0   17355.0   \n1            NaN   raymond.bowen@enron.com                      NaN   65907.0   \n2            NaN    kevin.hannon@enron.com                5538001.0   34039.0   \n3            NaN  david.delainey@enron.com                2291113.0   86174.0   \n4            NaN  richard.causey@enron.com                      NaN   30674.0   \n\n   from_messages  from_poi_to_this_person  ...  loan_advances  \\\n0          484.0                    228.0  ...            NaN   \n1           27.0                    140.0  ...            NaN   \n2           32.0                     32.0  ...            NaN   \n3         3069.0                     66.0  ...            NaN   \n4           49.0                     58.0  ...            NaN   \n\n   long_term_incentive     other  restricted_stock  restricted_stock_deferred  \\\n0                  NaN  210698.0          157569.0                        NaN   \n1             974293.0    1621.0          252055.0                        NaN   \n2            1617011.0   11350.0          853064.0                        NaN   \n3            1294981.0    1661.0         1323148.0                        NaN   \n4             350000.0  307895.0         2502063.0                        NaN   \n\n     salary  shared_receipt_with_poi  to_messages  total_payments  \\\n0  213999.0                   5521.0       7991.0       5501630.0   \n1  278601.0                   1593.0       1858.0       2669589.0   \n2  243293.0                   1035.0       1045.0        288682.0   \n3  365163.0                   2097.0       3093.0       4747979.0   \n4  415189.0                   1585.0       1892.0       1868758.0   \n\n   total_stock_value  \n0          1110705.0  \n1           252055.0  \n2          6391065.0  \n3          3614261.0  \n4          2502063.0  \n\n[5 rows x 21 columns]",
      "text/html": "<div>\n<style scoped>\n    .dataframe tbody tr th:only-of-type {\n        vertical-align: middle;\n    }\n\n    .dataframe tbody tr th {\n        vertical-align: top;\n    }\n\n    .dataframe thead th {\n        text-align: right;\n    }\n</style>\n<table border=\"1\" class=\"dataframe\">\n  <thead>\n    <tr style=\"text-align: right;\">\n      <th></th>\n      <th>name</th>\n      <th>bonus</th>\n      <th>deferral_payments</th>\n      <th>deferred_income</th>\n      <th>director_fees</th>\n      <th>email_address</th>\n      <th>exercised_stock_options</th>\n      <th>expenses</th>\n      <th>from_messages</th>\n      <th>from_poi_to_this_person</th>\n      <th>...</th>\n      <th>loan_advances</th>\n      <th>long_term_incentive</th>\n      <th>other</th>\n      <th>restricted_stock</th>\n      <th>restricted_stock_deferred</th>\n      <th>salary</th>\n      <th>shared_receipt_with_poi</th>\n      <th>to_messages</th>\n      <th>total_payments</th>\n      <th>total_stock_value</th>\n    </tr>\n  </thead>\n  <tbody>\n    <tr>\n      <th>0</th>\n      <td>BELDEN TIMOTHY N</td>\n      <td>5249999.0</td>\n      <td>2144013.0</td>\n      <td>-2334434.0</td>\n      <td>NaN</td>\n      <td>tim.belden@enron.com</td>\n      <td>953136.0</td>\n      <td>17355.0</td>\n      <td>484.0</td>\n      <td>228.0</td>\n      <td>...</td>\n      <td>NaN</td>\n      <td>NaN</td>\n      <td>210698.0</td>\n      <td>157569.0</td>\n      <td>NaN</td>\n      <td>213999.0</td>\n      <td>5521.0</td>\n      <td>7991.0</td>\n      <td>5501630.0</td>\n      <td>1110705.0</td>\n    </tr>\n    <tr>\n      <th>1</th>\n      <td>BOWEN JR RAYMOND M</td>\n      <td>1350000.0</td>\n      <td>NaN</td>\n      <td>-833.0</td>\n      <td>NaN</td>\n      <td>raymond.bowen@enron.com</td>\n      <td>NaN</td>\n      <td>65907.0</td>\n      <td>27.0</td>\n      <td>140.0</td>\n      <td>...</td>\n      <td>NaN</td>\n      <td>974293.0</td>\n      <td>1621.0</td>\n      <td>252055.0</td>\n      <td>NaN</td>\n      <td>278601.0</td>\n      <td>1593.0</td>\n      <td>1858.0</td>\n      <td>2669589.0</td>\n      <td>252055.0</td>\n    </tr>\n    <tr>\n      <th>2</th>\n      <td>HANNON KEVIN P</td>\n      <td>1500000.0</td>\n      <td>NaN</td>\n      <td>-3117011.0</td>\n      <td>NaN</td>\n      <td>kevin.hannon@enron.com</td>\n      <td>5538001.0</td>\n      <td>34039.0</td>\n      <td>32.0</td>\n      <td>32.0</td>\n      <td>...</td>\n      <td>NaN</td>\n      <td>1617011.0</td>\n      <td>11350.0</td>\n      <td>853064.0</td>\n      <td>NaN</td>\n      <td>243293.0</td>\n      <td>1035.0</td>\n      <td>1045.0</td>\n      <td>288682.0</td>\n      <td>6391065.0</td>\n    </tr>\n    <tr>\n      <th>3</th>\n      <td>DELAINEY DAVID W</td>\n      <td>3000000.0</td>\n      <td>NaN</td>\n      <td>NaN</td>\n      <td>NaN</td>\n      <td>david.delainey@enron.com</td>\n      <td>2291113.0</td>\n      <td>86174.0</td>\n      <td>3069.0</td>\n      <td>66.0</td>\n      <td>...</td>\n      <td>NaN</td>\n      <td>1294981.0</td>\n      <td>1661.0</td>\n      <td>1323148.0</td>\n      <td>NaN</td>\n      <td>365163.0</td>\n      <td>2097.0</td>\n      <td>3093.0</td>\n      <td>4747979.0</td>\n      <td>3614261.0</td>\n    </tr>\n    <tr>\n      <th>4</th>\n      <td>CAUSEY RICHARD A</td>\n      <td>1000000.0</td>\n      <td>NaN</td>\n      <td>-235000.0</td>\n      <td>NaN</td>\n      <td>richard.causey@enron.com</td>\n      <td>NaN</td>\n      <td>30674.0</td>\n      <td>49.0</td>\n      <td>58.0</td>\n      <td>...</td>\n      <td>NaN</td>\n      <td>350000.0</td>\n      <td>307895.0</td>\n      <td>2502063.0</td>\n      <td>NaN</td>\n      <td>415189.0</td>\n      <td>1585.0</td>\n      <td>1892.0</td>\n      <td>1868758.0</td>\n      <td>2502063.0</td>\n    </tr>\n  </tbody>\n</table>\n<p>5 rows × 21 columns</p>\n</div>"
     },
     "metadata": {},
     "execution_count": 79
    }
   ],
   "source": [
    "app_train = pd.read_csv(f_app)\n",
    "app_train.head()"
   ]
  },
  {
   "cell_type": "code",
   "execution_count": null,
   "metadata": {},
   "outputs": [],
   "source": []
  }
 ],
 "metadata": {
  "language_info": {
   "codemirror_mode": {
    "name": "ipython",
    "version": 3
   },
   "file_extension": ".py",
   "mimetype": "text/x-python",
   "name": "python",
   "nbconvert_exporter": "python",
   "pygments_lexer": "ipython3",
   "version": "3.7.6-final"
  },
  "orig_nbformat": 2,
  "kernelspec": {
   "name": "python3",
   "display_name": "Python 3"
  }
 },
 "nbformat": 4,
 "nbformat_minor": 2
}